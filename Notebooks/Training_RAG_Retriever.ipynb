{
 "cells": [
  {
   "cell_type": "code",
   "execution_count": 4,
   "metadata": {
    "executionInfo": {
     "elapsed": 22162,
     "status": "ok",
     "timestamp": 1745379353036,
     "user": {
      "displayName": "VENKAT",
      "userId": "12590802506526881118"
     },
     "user_tz": 240
    },
    "id": "RQnkFUz-Czst"
   },
   "outputs": [],
   "source": [
    "import pandas as pd\n",
    "from sentence_transformers import SentenceTransformer, InputExample, losses, evaluation\n",
    "from torch.utils.data import DataLoader\n",
    "import math\n",
    "import random\n",
    "import os\n",
    "from datetime import datetime\n",
    "from datasets import Dataset"
   ]
  },
  {
   "cell_type": "markdown",
   "metadata": {},
   "source": [
    "Adding Configurations for Retiever(distilroberta) model"
   ]
  },
  {
   "cell_type": "code",
   "execution_count": null,
   "metadata": {
    "executionInfo": {
     "elapsed": 45,
     "status": "ok",
     "timestamp": 1745379830255,
     "user": {
      "displayName": "VENKAT",
      "userId": "12590802506526881118"
     },
     "user_tz": 240
    },
    "id": "NSnuKdmYCzvX"
   },
   "outputs": [],
   "source": [
    "# Configuration\n",
    "\n",
    "# Configuration\n",
    "MODEL_NAME = 'all-distilroberta-v1'\n",
    "TRIPLET_FILE_PATH = 'optimized_triplets_ma.csv'\n",
    "OUTPUT_MODEL_PATH = f'output/finetuned-{MODEL_NAME.replace(\"/\", \"-\")}-{datetime.now().strftime(\"%Y-%m-%d_%H-%M-%S\")}'\n",
    "\n",
    "# Training Hyperparameters\n",
    "NUM_EPOCHS = 3\n",
    "TRAIN_BATCH_SIZE = 16\n",
    "TRIPLET_MARGIN = 5\n",
    "LEARNING_RATE = 2e-5\n",
    "WARMUP_STEPS_RATIO = 0.1\n",
    "USE_AMP = True\n",
    "\n",
    "# Evaluation Configuration\n",
    "VALIDATION_SET_FRACTION = 0.1\n",
    "EVALUATION_STEPS = 100"
   ]
  },
  {
   "cell_type": "code",
   "execution_count": null,
   "metadata": {
    "executionInfo": {
     "elapsed": 1177,
     "status": "ok",
     "timestamp": 1745379835833,
     "user": {
      "displayName": "VENKAT",
      "userId": "12590802506526881118"
     },
     "user_tz": 240
    },
    "id": "Aacp_e3dCzyE"
   },
   "outputs": [],
   "source": [
    "# Load and Prepare Data\n",
    "\n",
    "df = pd.read_csv(TRIPLET_FILE_PATH)\n",
    "df.dropna(subset=['anchor', 'positive', 'negative'], inplace=True)\n",
    "\n",
    "# Creating InputExamples\n",
    "train_samples = []\n",
    "for index, row in df.iterrows():\n",
    "    anchor = str(row['anchor'])\n",
    "    positive = str(row['positive'])\n",
    "    negative = str(row['negative'])\n",
    "    train_samples.append(InputExample(texts=[anchor, positive, negative]))"
   ]
  },
  {
   "cell_type": "code",
   "execution_count": null,
   "metadata": {
    "colab": {
     "base_uri": "https://localhost:8080/"
    },
    "executionInfo": {
     "elapsed": 35,
     "status": "ok",
     "timestamp": 1745380801896,
     "user": {
      "displayName": "VENKAT",
      "userId": "12590802506526881118"
     },
     "user_tz": 240
    },
    "id": "oiJSOysFCz1B",
    "outputId": "5591afb6-10b2-4e2f-c3cf-c75eb316a594"
   },
   "outputs": [
    {
     "name": "stdout",
     "output_type": "stream",
     "text": [
      "Training samples: 14281\n",
      "Validation samples: 1587\n"
     ]
    }
   ],
   "source": [
    "# Split Data (Train/Validation)\n",
    "\n",
    "random.shuffle(train_samples)\n",
    "\n",
    "# Calculate split index\n",
    "num_samples = len(train_samples)\n",
    "num_validation = math.ceil(num_samples * VALIDATION_SET_FRACTION)\n",
    "num_train = num_samples - num_validation\n",
    "\n",
    "train_dataset = train_samples[:num_train]\n",
    "validation_dataset = train_samples[num_train:]\n",
    "\n",
    "\n",
    "print(f\"Training samples: {len(train_dataset)}\")\n",
    "print(f\"Validation samples: {len(validation_dataset)}\")"
   ]
  },
  {
   "cell_type": "code",
   "execution_count": null,
   "metadata": {
    "colab": {
     "base_uri": "https://localhost:8080/"
    },
    "executionInfo": {
     "elapsed": 1382,
     "status": "ok",
     "timestamp": 1745380811269,
     "user": {
      "displayName": "VENKAT",
      "userId": "12590802506526881118"
     },
     "user_tz": 240
    },
    "id": "Kd3lZ177DN8i",
    "outputId": "021a78d5-46a5-4c9f-9bd3-cb2753f82f78"
   },
   "outputs": [
    {
     "name": "stdout",
     "output_type": "stream",
     "text": [
      "Using TripletLoss with margin 5 and COSINE distance.\n",
      "Validation evaluator created.\n"
     ]
    }
   ],
   "source": [
    "# Create DataLoader\n",
    "\n",
    "# Creating training DataLoader with batch size\n",
    "train_dataloader = DataLoader(\n",
    "    train_dataset,\n",
    "    shuffle=True,\n",
    "    batch_size=TRAIN_BATCH_SIZE\n",
    ")\n",
    "\n",
    "#Load Pre-trained Model\n",
    "\n",
    "model = SentenceTransformer(MODEL_NAME)\n",
    "\n",
    "#Define Loss Function\n",
    "# TripletLoss takes anchor, positive, negative samples\n",
    "train_loss = losses.TripletLoss(\n",
    "    model=model,\n",
    "    distance_metric=losses.TripletDistanceMetric.COSINE,\n",
    "    triplet_margin=TRIPLET_MARGIN\n",
    ")\n",
    "print(f\"Using TripletLoss with margin {TRIPLET_MARGIN} and COSINE distance.\")\n",
    "\n",
    "# Setting up evaluator\n",
    "\n",
    "if validation_dataset:\n",
    "    validation_evaluator = evaluation.TripletEvaluator.from_input_examples(\n",
    "        validation_dataset,\n",
    "        name=f'{MODEL_NAME.replace(\"/\", \"-\")}-val'\n",
    "    )\n",
    "    print(\"Validation evaluator created.\")\n",
    "else:\n",
    "    validation_evaluator = None\n",
    "    print(\"No validation data, skipping evaluator setup.\")"
   ]
  },
  {
   "cell_type": "code",
   "execution_count": null,
   "metadata": {
    "colab": {
     "base_uri": "https://localhost:8080/",
     "height": 1000,
     "referenced_widgets": [
      "5d7a2b9caa664c4ab6995352b4322f23",
      "ef90b906206d4dd9b22c42361e362a4e",
      "be60619d5ddd43ba948902d3fe539333",
      "1caba0740571412aaf4607bf1f562912",
      "e041d19ad5354339a1b155a8379f71c5",
      "9ca2e293b0c44ddbbce7a3d52c79f9dd",
      "9c3cffeee97d46898bfc5dc45f672b92",
      "78753db1fdb246bc8a1dffe9600c7215",
      "a33c4190b79046d69eb9099a29d027b4",
      "b5af7f8325c6460f95e1bdea4b40f39b",
      "ae64ee71993f409eb00786c75675f1ff"
     ]
    },
    "executionInfo": {
     "elapsed": 383292,
     "status": "ok",
     "timestamp": 1745381198221,
     "user": {
      "displayName": "VENKAT",
      "userId": "12590802506526881118"
     },
     "user_tz": 240
    },
    "id": "Al5O7CTJDN_j",
    "outputId": "0052ed2f-baee-45cb-8c23-e5ef224f7505"
   },
   "outputs": [
    {
     "name": "stderr",
     "output_type": "stream",
     "text": [
      "Using the `WANDB_DISABLED` environment variable is deprecated and will be removed in v5. Use the --report_to flag to control the integrations used for logging result (for instance --report_to none).\n",
      "Using the `WANDB_DISABLED` environment variable is deprecated and will be removed in v5. Use the --report_to flag to control the integrations used for logging result (for instance --report_to none).\n"
     ]
    },
    {
     "name": "stdout",
     "output_type": "stream",
     "text": [
      "\n",
      "Total training steps: 2679\n",
      "Warmup steps: 268\n",
      "\n",
      "Starting fine-tuning for 3 epochs...\n"
     ]
    },
    {
     "data": {
      "application/vnd.jupyter.widget-view+json": {
       "model_id": "5d7a2b9caa664c4ab6995352b4322f23",
       "version_major": 2,
       "version_minor": 0
      },
      "text/plain": [
       "Computing widget examples:   0%|          | 0/1 [00:00<?, ?example/s]"
      ]
     },
     "metadata": {},
     "output_type": "display_data"
    },
    {
     "data": {
      "text/html": [
       "\n",
       "    <div>\n",
       "      \n",
       "      <progress value='2679' max='2679' style='width:300px; height:20px; vertical-align: middle;'></progress>\n",
       "      [2679/2679 06:22, Epoch 3/3]\n",
       "    </div>\n",
       "    <table border=\"1\" class=\"dataframe\">\n",
       "  <thead>\n",
       " <tr style=\"text-align: left;\">\n",
       "      <th>Step</th>\n",
       "      <th>Training Loss</th>\n",
       "      <th>Validation Loss</th>\n",
       "      <th>All-distilroberta-v1-val Cosine Accuracy</th>\n",
       "    </tr>\n",
       "  </thead>\n",
       "  <tbody>\n",
       "    <tr>\n",
       "      <td>100</td>\n",
       "      <td>No log</td>\n",
       "      <td>No log</td>\n",
       "      <td>0.856963</td>\n",
       "    </tr>\n",
       "    <tr>\n",
       "      <td>200</td>\n",
       "      <td>No log</td>\n",
       "      <td>No log</td>\n",
       "      <td>0.855072</td>\n",
       "    </tr>\n",
       "    <tr>\n",
       "      <td>300</td>\n",
       "      <td>No log</td>\n",
       "      <td>No log</td>\n",
       "      <td>0.844360</td>\n",
       "    </tr>\n",
       "    <tr>\n",
       "      <td>400</td>\n",
       "      <td>No log</td>\n",
       "      <td>No log</td>\n",
       "      <td>0.843730</td>\n",
       "    </tr>\n",
       "    <tr>\n",
       "      <td>500</td>\n",
       "      <td>4.329500</td>\n",
       "      <td>No log</td>\n",
       "      <td>0.860113</td>\n",
       "    </tr>\n",
       "    <tr>\n",
       "      <td>600</td>\n",
       "      <td>4.329500</td>\n",
       "      <td>No log</td>\n",
       "      <td>0.856963</td>\n",
       "    </tr>\n",
       "    <tr>\n",
       "      <td>700</td>\n",
       "      <td>4.329500</td>\n",
       "      <td>No log</td>\n",
       "      <td>0.855703</td>\n",
       "    </tr>\n",
       "    <tr>\n",
       "      <td>800</td>\n",
       "      <td>4.329500</td>\n",
       "      <td>No log</td>\n",
       "      <td>0.855703</td>\n",
       "    </tr>\n",
       "    <tr>\n",
       "      <td>893</td>\n",
       "      <td>4.329500</td>\n",
       "      <td>No log</td>\n",
       "      <td>0.856963</td>\n",
       "    </tr>\n",
       "    <tr>\n",
       "      <td>900</td>\n",
       "      <td>4.329500</td>\n",
       "      <td>No log</td>\n",
       "      <td>0.856963</td>\n",
       "    </tr>\n",
       "    <tr>\n",
       "      <td>1000</td>\n",
       "      <td>4.115000</td>\n",
       "      <td>No log</td>\n",
       "      <td>0.860113</td>\n",
       "    </tr>\n",
       "    <tr>\n",
       "      <td>1100</td>\n",
       "      <td>4.115000</td>\n",
       "      <td>No log</td>\n",
       "      <td>0.853812</td>\n",
       "    </tr>\n",
       "    <tr>\n",
       "      <td>1200</td>\n",
       "      <td>4.115000</td>\n",
       "      <td>No log</td>\n",
       "      <td>0.861374</td>\n",
       "    </tr>\n",
       "    <tr>\n",
       "      <td>1300</td>\n",
       "      <td>4.115000</td>\n",
       "      <td>No log</td>\n",
       "      <td>0.858853</td>\n",
       "    </tr>\n",
       "    <tr>\n",
       "      <td>1400</td>\n",
       "      <td>4.115000</td>\n",
       "      <td>No log</td>\n",
       "      <td>0.856963</td>\n",
       "    </tr>\n",
       "    <tr>\n",
       "      <td>1500</td>\n",
       "      <td>4.077900</td>\n",
       "      <td>No log</td>\n",
       "      <td>0.860744</td>\n",
       "    </tr>\n",
       "    <tr>\n",
       "      <td>1600</td>\n",
       "      <td>4.077900</td>\n",
       "      <td>No log</td>\n",
       "      <td>0.861374</td>\n",
       "    </tr>\n",
       "    <tr>\n",
       "      <td>1700</td>\n",
       "      <td>4.077900</td>\n",
       "      <td>No log</td>\n",
       "      <td>0.858223</td>\n",
       "    </tr>\n",
       "    <tr>\n",
       "      <td>1786</td>\n",
       "      <td>4.077900</td>\n",
       "      <td>No log</td>\n",
       "      <td>0.857593</td>\n",
       "    </tr>\n",
       "    <tr>\n",
       "      <td>1800</td>\n",
       "      <td>4.077900</td>\n",
       "      <td>No log</td>\n",
       "      <td>0.858853</td>\n",
       "    </tr>\n",
       "    <tr>\n",
       "      <td>1900</td>\n",
       "      <td>4.077900</td>\n",
       "      <td>No log</td>\n",
       "      <td>0.858223</td>\n",
       "    </tr>\n",
       "    <tr>\n",
       "      <td>2000</td>\n",
       "      <td>4.091200</td>\n",
       "      <td>No log</td>\n",
       "      <td>0.856333</td>\n",
       "    </tr>\n",
       "    <tr>\n",
       "      <td>2100</td>\n",
       "      <td>4.091200</td>\n",
       "      <td>No log</td>\n",
       "      <td>0.859483</td>\n",
       "    </tr>\n",
       "    <tr>\n",
       "      <td>2200</td>\n",
       "      <td>4.091200</td>\n",
       "      <td>No log</td>\n",
       "      <td>0.858223</td>\n",
       "    </tr>\n",
       "    <tr>\n",
       "      <td>2300</td>\n",
       "      <td>4.091200</td>\n",
       "      <td>No log</td>\n",
       "      <td>0.858223</td>\n",
       "    </tr>\n",
       "    <tr>\n",
       "      <td>2400</td>\n",
       "      <td>4.091200</td>\n",
       "      <td>No log</td>\n",
       "      <td>0.857593</td>\n",
       "    </tr>\n",
       "    <tr>\n",
       "      <td>2500</td>\n",
       "      <td>4.073000</td>\n",
       "      <td>No log</td>\n",
       "      <td>0.857593</td>\n",
       "    </tr>\n",
       "    <tr>\n",
       "      <td>2600</td>\n",
       "      <td>4.073000</td>\n",
       "      <td>No log</td>\n",
       "      <td>0.858223</td>\n",
       "    </tr>\n",
       "    <tr>\n",
       "      <td>2679</td>\n",
       "      <td>4.073000</td>\n",
       "      <td>No log</td>\n",
       "      <td>0.857593</td>\n",
       "    </tr>\n",
       "  </tbody>\n",
       "</table><p>"
      ],
      "text/plain": [
       "<IPython.core.display.HTML object>"
      ]
     },
     "metadata": {},
     "output_type": "display_data"
    },
    {
     "name": "stdout",
     "output_type": "stream",
     "text": [
      "\n",
      "--- Training Complete ---\n",
      "Fine-tuned model saved to: output/finetuned-all-distilroberta-v1-2025-04-23_03-43-57\n"
     ]
    }
   ],
   "source": [
    "# Fine-tune the Model\n",
    "\n",
    "# Calculate total training steps and warmup steps\n",
    "total_steps = math.ceil(len(train_dataloader) * NUM_EPOCHS)\n",
    "warmup_steps = math.ceil(total_steps * WARMUP_STEPS_RATIO)\n",
    "print(f\"\\nTotal training steps: {total_steps}\")\n",
    "print(f\"Warmup steps: {warmup_steps}\")\n",
    "\n",
    "print(f\"\\nStarting fine-tuning for {NUM_EPOCHS} epochs...\")\n",
    "\n",
    "os.environ[\"WANDB_DISABLED\"] = \"true\"\n",
    "os.makedirs(OUTPUT_MODEL_PATH, exist_ok=True)\n",
    "\n",
    "# Train the model\n",
    "model.fit(\n",
    "    train_objectives=[(train_dataloader, train_loss)],\n",
    "    epochs=NUM_EPOCHS,\n",
    "    warmup_steps=warmup_steps,\n",
    "    evaluator=validation_evaluator,\n",
    "    evaluation_steps=EVALUATION_STEPS if validation_evaluator else 0,\n",
    "    output_path=OUTPUT_MODEL_PATH,\n",
    "    save_best_model=True if validation_evaluator else False,\n",
    "    optimizer_params={'lr': LEARNING_RATE},\n",
    "    use_amp=USE_AMP\n",
    ")\n",
    "\n",
    "print(f\"\\n--- Training Complete ---\")\n",
    "print(f\"Fine-tuned model saved to: {OUTPUT_MODEL_PATH}\")"
   ]
  },
  {
   "cell_type": "code",
   "execution_count": 31,
   "metadata": {
    "colab": {
     "base_uri": "https://localhost:8080/"
    },
    "executionInfo": {
     "elapsed": 774,
     "status": "ok",
     "timestamp": 1745381583050,
     "user": {
      "displayName": "VENKAT",
      "userId": "12590802506526881118"
     },
     "user_tz": 240
    },
    "id": "hF-CJo75DODd",
    "outputId": "510334e8-2c63-4730-ece5-bb0726071c7b"
   },
   "outputs": [
    {
     "name": "stdout",
     "output_type": "stream",
     "text": [
      "Similarity between '346, Franklin Street, Unit d, Worcester, Worcester County, Massachusetts, 01604'\n",
      " and '9, Frank Street, Worcester, Worcester County, Massachusetts, 01604': 0.9999\n",
      "\n",
      "Similarity between '346, Franklin Street, Unit d, Worcester, Worcester County, Massachusetts, 01604'\n",
      " and '6, Evergreen Drive, Unit 603, Middleborough, Plymouth County, Massachusetts, 02346': -0.9983\n"
     ]
    }
   ],
   "source": [
    "#Testing the fine-tuned model\n",
    "from sentence_transformers.util import cos_sim\n",
    "\n",
    "\n",
    "model_fine_tuned = SentenceTransformer(OUTPUT_MODEL_PATH)\n",
    "address1 = \"346, Franklin Street, Unit d, Worcester, Worcester County, Massachusetts, 01604\"\n",
    "address2 = \"9, Frank Street, Worcester, Worcester County, Massachusetts, 01604\"\n",
    "address3 = \"6, Evergreen Drive, Unit 603, Middleborough, Plymouth County, Massachusetts, 02346\"\n",
    "embeddings = model_fine_tuned.encode([address1, address2, address3])\n",
    "\n",
    "\n",
    "similarity_1_2 = cos_sim(embeddings[0], embeddings[1])\n",
    "similarity_1_3 = cos_sim(embeddings[0], embeddings[2])\n",
    "print(f\"Similarity between '{address1}'\\n and '{address2}': {similarity_1_2.item():.4f}\\n\")\n",
    "print(f\"Similarity between '{address1}'\\n and '{address3}': {similarity_1_3.item():.4f}\")"
   ]
  }
 ],
 "metadata": {
  "accelerator": "GPU",
  "colab": {
   "authorship_tag": "ABX9TyMJ7ZqC2O/AElhWzwJRMzdQ",
   "gpuType": "T4",
   "provenance": []
  },
  "kernelspec": {
   "display_name": "Python 3 (ipykernel)",
   "language": "python",
   "name": "python3"
  },
  "language_info": {
   "codemirror_mode": {
    "name": "ipython",
    "version": 3
   },
   "file_extension": ".py",
   "mimetype": "text/x-python",
   "name": "python",
   "nbconvert_exporter": "python",
   "pygments_lexer": "ipython3",
   "version": "3.11.5"
  }
 },
 "nbformat": 4,
 "nbformat_minor": 4
}
