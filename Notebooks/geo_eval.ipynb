{
 "cells": [
  {
   "cell_type": "markdown",
   "metadata": {},
   "source": [
    "# Geographical Evaluation using Open Street Maps"
   ]
  },
  {
   "cell_type": "code",
   "execution_count": 45,
   "metadata": {},
   "outputs": [
    {
     "name": "stdout",
     "output_type": "stream",
     "text": [
      "polars version: 1.9.0\n"
     ]
    }
   ],
   "source": [
    "import os\n",
    "import polars as pl\n",
    "import numpy as np\n",
    "from pathlib import Path\n",
    "from geopy.distance import geodesic\n",
    "from typing import List, Tuple, Dict, Union\n",
    "from geopy.geocoders import Nominatim\n",
    "\n",
    "print(f'polars version: {pl.__version__}')\n",
    "\n",
    "project_dir = Path(os.getcwd()).parent\n",
    "data_dir = project_dir / 'Data'\n",
    "\n",
    "geolocator = Nominatim(user_agent=\"geocoder_llm_project\", timeout=300)"
   ]
  },
  {
   "cell_type": "code",
   "execution_count": 46,
   "metadata": {},
   "outputs": [],
   "source": [
    "df = pl.read_parquet(data_dir / 'new_formatted_addresses.parquet')"
   ]
  },
  {
   "cell_type": "code",
   "execution_count": 47,
   "metadata": {},
   "outputs": [
    {
     "name": "stdout",
     "output_type": "stream",
     "text": [
      "4524, Old Caldwell Mill Road, Shelby County, Alabama, 35242\n",
      "33.41236637208968 -86.73952124099591\n"
     ]
    }
   ],
   "source": [
    "idx = 100\n",
    "print(df[idx]['FormattedFullAddress'].item())\n",
    "print(df[idx]['Latitude'].item(), df[idx]['Longitude'].item())\n",
    "# df[idx].to_dict(as_series=False)"
   ]
  },
  {
   "cell_type": "markdown",
   "metadata": {},
   "source": [
    "The GeoEvaluation class is designed to evaluate the accuracy of predicted geographic locations by comparing them with ground truth coordinates. It utilizes the OpenStreetMap's `Nominatim` geocoding service to convert textual addresses into geographic coordinates (latitude and longitude) and then calculates the geodesic distance between the predicted and actual locations.\n",
    "\n",
    "A radius threshold of 0.2 kilometers (200 meters) to determine if two locations are considered the same\n",
    "\n",
    "Methods:<br>\n",
    "* `geocode_address(address: str) -> Union[Tuple[float, float], Tuple[None, None]]`<br>\n",
    "This method takes a textual address as input and returns its geographic coordinates.\n",
    "\n",
    "* `compute_geographic_distance(latitude1: float, longitude1: float, latitude2: float, longitude2: float) -> float`<br>\n",
    "This method calculates the geodesic distance between two geographic points.\n",
    "\n",
    "* `are_same(predicted_address: str, groundtruth_latitude: float, groundtruth_longitude: float) -> bool`<br>\n",
    "This method determines whether a predicted address corresponds to the same location as the ground truth coordinates.\n",
    "\n",
    "Process:\n",
    "* * Geocodes the predicted address to obtain its coordinates\n",
    "* * Calculates the distance between the predicted and ground truth coordinates\n",
    "* * Prints the distance for debugging/information purposes\n",
    "* * Returns True if the distance is less than or equal to the radius threshold (0.2 km)\n",
    "\n",
    "Evaluation Logic\n",
    "The class considers two locations to be the same if they are within 200 meters (0.2 kilometers) of each other. This threshold accounts for:\n",
    "\n",
    "Geocoding Imprecision: Different geocoding services might return slightly different coordinates for the same address\n",
    "Address Ambiguity: Addresses can sometimes refer to large buildings or areas rather than precise points\n",
    "Practical Equivalence: For many applications, locations within 200 meters are functionally equivalent\n",
    "\n",
    "The threshold can be adjusted by changing the radius_threshold property depending on the specific requirements of your evaluation task. A smaller threshold would increase precision requirements, while a larger threshold would be more lenient in considering locations as matches."
   ]
  },
  {
   "cell_type": "code",
   "execution_count": 58,
   "metadata": {},
   "outputs": [],
   "source": [
    "class GeoEvaluation:\n",
    "    def __init__(self):\n",
    "        self.timeout = 300\n",
    "        self.geocoder = Nominatim(user_agent=\"geocoder_llm_evaluation_agent\", timeout=self.timeout)\n",
    "        self.radius_threshold = 0.2  # in kilometers\n",
    "\n",
    "    def geocode_address(self, address: str) -> Union[Tuple[float, float], Tuple[None, None]]:\n",
    "        try:\n",
    "            location = self.geocoder.geocode(address)\n",
    "            if location:\n",
    "                return (location.latitude, location.longitude)\n",
    "            print(f\"Did not find location for: {address}\")\n",
    "        except Exception as e:\n",
    "            print(f\"Geocoding error for address '{address}': {e}\")\n",
    "        return (None, None)\n",
    "\n",
    "    def compute_geographic_distance(self, latitude1: float, longitude1: float, latitude2: float, longitude2: float) -> float:\n",
    "        \"\"\"\n",
    "        Compute the geodesic distance between two lat/lon pairs in kilometers using geopy.\n",
    "        \"\"\"\n",
    "        return geodesic((latitude1, longitude1), (latitude2, longitude2)).kilometers\n",
    "\n",
    "    def are_same(self, predicted_address: str, groundtruth_latitude: float, groundtruth_longitude: float) -> bool:\n",
    "        # Geocode predicted address\n",
    "        pred_latitude, pred_longitude = self.geocode_address(predicted_address)\n",
    "        if pred_latitude is None or pred_longitude is None:\n",
    "            return False\n",
    "\n",
    "        # Compute the geographical distance\n",
    "        distance = self.compute_geographic_distance(\n",
    "            float(pred_latitude), float(pred_longitude),\n",
    "            float(groundtruth_latitude), float(groundtruth_longitude)\n",
    "        )\n",
    "\n",
    "        print(f'Distance from ground truth: {round(distance, 3)} KM')\n",
    "\n",
    "        return distance <= self.radius_threshold"
   ]
  },
  {
   "cell_type": "code",
   "execution_count": 59,
   "metadata": {},
   "outputs": [
    {
     "name": "stdout",
     "output_type": "stream",
     "text": [
      "Distance from ground truth: 0.195 KM\n",
      "Match: True\n"
     ]
    }
   ],
   "source": [
    "evaluator = GeoEvaluation()\n",
    "groundtruth_lat, groundtruth_lon = 32.79596540137694, -85.6535596907001\n",
    "predicted_address = \"south main st, Camp Hill, Alabama, 36850\"\n",
    "\n",
    "is_match = evaluator.are_same(predicted_address, groundtruth_lat, groundtruth_lon)\n",
    "print(\"Match:\", is_match)"
   ]
  },
  {
   "cell_type": "code",
   "execution_count": null,
   "metadata": {},
   "outputs": [],
   "source": []
  }
 ],
 "metadata": {
  "kernelspec": {
   "display_name": "ds-env",
   "language": "python",
   "name": "python3"
  },
  "language_info": {
   "codemirror_mode": {
    "name": "ipython",
    "version": 3
   },
   "file_extension": ".py",
   "mimetype": "text/x-python",
   "name": "python",
   "nbconvert_exporter": "python",
   "pygments_lexer": "ipython3",
   "version": "3.10.13"
  }
 },
 "nbformat": 4,
 "nbformat_minor": 2
}
